{
 "cells": [
  {
   "cell_type": "code",
   "execution_count": 1,
   "id": "88397c61-6485-4010-b002-57ea84489243",
   "metadata": {},
   "outputs": [],
   "source": [
    "import requests\n",
    "from tqdm import tqdm\n",
    "from time import time\n",
    "import pandas as pd\n",
    "import json"
   ]
  },
  {
   "cell_type": "markdown",
   "id": "7a64192b-1549-43b0-bb74-507a6b41029b",
   "metadata": {},
   "source": [
    "### Exporting JSON"
   ]
  },
  {
   "cell_type": "code",
   "execution_count": null,
   "id": "fac6a473-25ad-4eab-b1c8-f2bc184f46b8",
   "metadata": {},
   "outputs": [],
   "source": [
    "URL = 'https://ayushgupta0010.pythonanywhere.com/document/?limit=3000&offset=7000'\n",
    "\n",
    "# Keep Changing From (4000, 3000, 3000) & (0, 4000, 7000)"
   ]
  },
  {
   "cell_type": "code",
   "execution_count": null,
   "id": "63fce0a4-a902-4feb-bec1-42aac56a1cfc",
   "metadata": {},
   "outputs": [],
   "source": [
    "t1 = time()\n",
    "\n",
    "r = requests.get(url = URL)\n",
    "\n",
    "t2 = time()\n",
    "\n",
    "t2-t1"
   ]
  },
  {
   "cell_type": "code",
   "execution_count": null,
   "id": "c2cbea1a-40ba-4513-b396-df5cbe8a0955",
   "metadata": {},
   "outputs": [],
   "source": [
    "r"
   ]
  },
  {
   "cell_type": "code",
   "execution_count": null,
   "id": "bc04acbc-7250-438e-8cf1-ac46700d693d",
   "metadata": {},
   "outputs": [],
   "source": [
    "data1 = r.json()"
   ]
  },
  {
   "cell_type": "code",
   "execution_count": null,
   "id": "1e3dd227-0d81-48f6-8a28-a6b899ee787c",
   "metadata": {},
   "outputs": [],
   "source": [
    "data1['results'][-1]"
   ]
  },
  {
   "cell_type": "code",
   "execution_count": null,
   "id": "844d9b90-4634-4bbc-8478-e2a93091f77e",
   "metadata": {},
   "outputs": [],
   "source": [
    "out_file = open(\"data2.json\", \"w\")\n",
    "  \n",
    "json.dump(data1, out_file)"
   ]
  },
  {
   "cell_type": "markdown",
   "id": "9e23c97a-c7d9-4ed2-8845-8c40eb6d412a",
   "metadata": {},
   "source": [
    "### Writing Data Into DataFrame"
   ]
  },
  {
   "cell_type": "code",
   "execution_count": 2,
   "id": "a00a4c17-45b6-4bb5-8745-59517207e8c9",
   "metadata": {},
   "outputs": [],
   "source": [
    "data0 = open('Data/data0.json')\n",
    "data1 = open('Data/data1.json')\n",
    "data2 = open('Data/data2.json')"
   ]
  },
  {
   "cell_type": "code",
   "execution_count": 3,
   "id": "aa552e60-2887-4af8-b11a-6c476ff3f801",
   "metadata": {},
   "outputs": [],
   "source": [
    "data0 = json.load(data0)\n",
    "data1 = json.load(data1)\n",
    "data2 = json.load(data2)"
   ]
  },
  {
   "cell_type": "code",
   "execution_count": 4,
   "id": "580e8952-dbe0-4154-a2a2-585676ef22f7",
   "metadata": {},
   "outputs": [
    {
     "data": {
      "text/plain": [
       "(4050, 7050, 10050)"
      ]
     },
     "execution_count": 4,
     "metadata": {},
     "output_type": "execute_result"
    }
   ],
   "source": [
    "data0['results'][-1]['id'], data1['results'][-1]['id'], data2['results'][-1]['id']"
   ]
  },
  {
   "cell_type": "code",
   "execution_count": 5,
   "id": "15c35b2d-d6bb-47ad-a05c-2a7477de9f4c",
   "metadata": {},
   "outputs": [],
   "source": [
    "id = []\n",
    "title = []\n",
    "abstract = []\n",
    "authors = []\n",
    "text = []"
   ]
  },
  {
   "cell_type": "code",
   "execution_count": 6,
   "id": "91eef5fe-8074-4155-bcff-2d2f7a41e56d",
   "metadata": {},
   "outputs": [
    {
     "name": "stderr",
     "output_type": "stream",
     "text": [
      "100%|██████████████████████████████████████████████████| 4000/4000 [00:00<00:00, 1204135.22it/s]\n",
      "100%|██████████████████████████████████████████████████| 3000/3000 [00:00<00:00, 1208617.04it/s]\n",
      "100%|██████████████████████████████████████████████████| 3000/3000 [00:00<00:00, 1399189.59it/s]\n",
      "100%|███████████████████████████████████████████████████| 4000/4000 [00:00<00:00, 225989.25it/s]\n",
      "100%|███████████████████████████████████████████████████| 3000/3000 [00:00<00:00, 346455.35it/s]\n",
      "100%|████████████████████████████████████████████████████| 3000/3000 [00:00<00:00, 81435.42it/s]\n"
     ]
    }
   ],
   "source": [
    "for i in tqdm(range(4000)):\n",
    "    id.append(data0['results'][i]['id'])\n",
    "\n",
    "for i in tqdm(range(3000)):\n",
    "    id.append(data1['results'][i]['id'])\n",
    "    \n",
    "for i in tqdm(range(3000)):   \n",
    "    id.append(data2['results'][i]['id'])\n",
    "\n",
    "\n",
    "    \n",
    "for i in tqdm(range(4000)):\n",
    "    \n",
    "    title.append(data0['results'][i]['title'])\n",
    "    abstract.append(data0['results'][i]['abstract'])\n",
    "    authors.append(data0['results'][i]['authors'])\n",
    "\n",
    "    try:\n",
    "        text.append(data0['results'][i]['file']['text'])\n",
    "\n",
    "    except:\n",
    "        text.append('None') \n",
    "   \n",
    "\n",
    "for i in tqdm(range(3000)):\n",
    "    \n",
    "    title.append(data1['results'][i]['title'])\n",
    "    abstract.append(data1['results'][i]['abstract'])\n",
    "    authors.append(data1['results'][i]['authors'])\n",
    "\n",
    "    try:\n",
    "        text.append(data1['results'][i]['file']['text'])\n",
    "\n",
    "    except:\n",
    "        text.append('None') \n",
    "\n",
    "        \n",
    "for i in tqdm(range(3000)):\n",
    "    \n",
    "    title.append(data2['results'][i]['title'])\n",
    "    abstract.append(data2['results'][i]['abstract'])\n",
    "    authors.append(data2['results'][i]['authors'])\n",
    "\n",
    "    try:\n",
    "        text.append(data2['results'][i]['file']['text'])\n",
    "\n",
    "    except:\n",
    "        text.append('None') "
   ]
  },
  {
   "cell_type": "code",
   "execution_count": 7,
   "id": "769a8d57-dbca-4a54-9532-da6e1c2b78fd",
   "metadata": {
    "tags": []
   },
   "outputs": [
    {
     "data": {
      "text/plain": [
       "(10050,\n",
       " 'Long term operations of in-pile and out-of- pile thermionic converters, parts 1 and 2',\n",
       " 'In-pile life tests of cylindrical thermionic converter rods for Mark 6',\n",
       " 'Holland, J. W. & Kay, J. & Schwarzer, D. E. & Yates, M. K.',\n",
       " 'A Reproduced Copy \\nOF \\nReproduced for NASA \\nby the \\nNASA Scientific and Technical Information Facility \\nFFNo 672 Aug 65 \\n\\n\\nx P r3 \\nd \\nm \\nc, \\nR \\nM \\ncu \\nf \\nt- \\nW .I \\n8 \\nF4 0 \\nEl \\nf \\ndm \\nm.3 c,x \\nc, \\na d I \\n0 .r( \\'; \\nEl k a, c \\nc, \\n0 c, \\nk \\n8 \\nF4 0 +, \\n0 c, 3 \\n9.4 R \\nf \\n4 \\nE \\n2 E !i \\nR \\nP \\nk \\no \\n4: d \\nU !E522 \\nM rl \\nTABLE 1 \\nIN-PILE TEST SUMMARY \\nAverage \\nEloetmds Avemge \\nP-r Pmlttsr Plnsl Fl~l Test \\nmnalty Tppersturs Relative Relative Temimtlon %mu9 rest Collector hl Rwr. (V/rm2) ( C) Pwer Efficiency bte (tlet) milure ~ods mtterl \\nIC4 w/w 9ovc-lnzrc ld 7.3 1760 0.80 0.65 4/19/& Mol9 Envelope leak-not Sound \\nIC-7 w/Ko w-1mrC 520 6.C 1720 0.90 0.80 6/28/64 NC Envelope leak-no port- \\nOpeI\\'9tlOMl \\nKC5 \\nIC-9 IC-10 IC-ll IC-12 IC-13 IC-lk IC-1s 1552 6.3 \\nUag 6.0 \\n1552 6.9 \\n2506 6.9 3300 6.2 \\n17% 4.5 \\n1328 1.0 1650 \\nlodo \\n1650 \\n1693 1670 14% \\n162U \\n1732 0.b 0.3 \\n0.90 0.80 0.60 \\n0.45 \\n0.80 0.69 \\n0.b 0.50 \\n0.70 0.50 \\n0.95 0.65 \\n1.10 1,Ol Envelope leak-not found \\nRavelopa leak-not found \\nEnvelops leak-not found \\nIan--contmctual cmalttmnt \\nshort dw to gdb on emitter m~mlopa lek-not \\nfound \\nmvalopo loak-no post- \\nOp~tiO~~l \\nshort dun to getlrr rirq 5369 10.0 \\nU d \\n0 .z \\na\" R U d \\n3 \\nB 0 \\n3 t: c, \\nb I rl \\ni? \\nd k \\n5 i! H E i \\n2 \\nU E 8 d \\nH \\nc \\nP U \\n.! 3 \\ni \\nTABLE 2 \\n@A\\'-OF-PILE TEST JWRY \\nLc-\\\\I upo -- 735 8.7 1750 1.00 1.00 11/W55 \\nLC-5 u+ pove-ioe~c 7558 8.6 1750 0.85 0.85 12ji%j€5 \\nLC-6 up m-wzfc 2803 4.8 16650 1.18 1.13 S/lO/€% \\nLc-1 u/Ab -- 3671 6.7 1Bo3 0.93 0.9 7/13/67 En~lops leek - Cu-Nb veld in \\nceslup~ resorvolr \\nlc.9 .u/m -- 93.53 7.9 1700 1.01 1.m \\na \\nf 14 I: \\nI IC.6 * REL&71YL PQWZR \\nA RELATIVC IFFICILHCY \\n0 \\nI I I \\n1 4 IC-14 \\nPr AUO r, \\nNORUALIZEO I \\n00 500 I000 I500 2000 2500 3000 3500 \\nOPLRLTIHG TIWE (HR) \\nFig. $-Relative power and efficiency of carbide fueled in-pile converters \\n0 01 \\nI------ \\n------ 1 -_---- LE-3 DITA \\nENVELOPE \\nI I \\n0 1000 2000 3000 4000 5000 6000 7000 9000 8000 IO.( \\nOPERRTING TIME (HR: \\nFig. a--Coaparison of out-of-pile relative power data prior to cesium leakage \\n')"
      ]
     },
     "execution_count": 7,
     "metadata": {},
     "output_type": "execute_result"
    }
   ],
   "source": [
    "id[-1], title[-1], abstract[-1], authors[-1], text[-1]"
   ]
  },
  {
   "cell_type": "code",
   "execution_count": 8,
   "id": "a81c0f1a-c06a-4aef-a7ac-379079e1141d",
   "metadata": {
    "tags": []
   },
   "outputs": [
    {
     "data": {
      "text/plain": [
       "{'id': 10050,\n",
       " 'doc_id': '19690003658',\n",
       " 'title': 'Long term operations of in-pile and out-of- pile thermionic converters, parts 1 and 2',\n",
       " 'abstract': 'In-pile life tests of cylindrical thermionic converter rods for Mark 6',\n",
       " 'authors': 'Holland, J. W. & Kay, J. & Schwarzer, D. E. & Yates, M. K.',\n",
       " 'file': {'url': 'https://ntrs.nasa.gov/api/citations/19690003658/downloads/19690003658.pdf',\n",
       "  'name': '19690003658.pdf',\n",
       "  'text': 'A Reproduced Copy \\nOF \\nReproduced for NASA \\nby the \\nNASA Scientific and Technical Information Facility \\nFFNo 672 Aug 65 \\n\\n\\nx P r3 \\nd \\nm \\nc, \\nR \\nM \\ncu \\nf \\nt- \\nW .I \\n8 \\nF4 0 \\nEl \\nf \\ndm \\nm.3 c,x \\nc, \\na d I \\n0 .r( \\'; \\nEl k a, c \\nc, \\n0 c, \\nk \\n8 \\nF4 0 +, \\n0 c, 3 \\n9.4 R \\nf \\n4 \\nE \\n2 E !i \\nR \\nP \\nk \\no \\n4: d \\nU !E522 \\nM rl \\nTABLE 1 \\nIN-PILE TEST SUMMARY \\nAverage \\nEloetmds Avemge \\nP-r Pmlttsr Plnsl Fl~l Test \\nmnalty Tppersturs Relative Relative Temimtlon %mu9 rest Collector hl Rwr. (V/rm2) ( C) Pwer Efficiency bte (tlet) milure ~ods mtterl \\nIC4 w/w 9ovc-lnzrc ld 7.3 1760 0.80 0.65 4/19/& Mol9 Envelope leak-not Sound \\nIC-7 w/Ko w-1mrC 520 6.C 1720 0.90 0.80 6/28/64 NC Envelope leak-no port- \\nOpeI\\'9tlOMl \\nKC5 \\nIC-9 IC-10 IC-ll IC-12 IC-13 IC-lk IC-1s 1552 6.3 \\nUag 6.0 \\n1552 6.9 \\n2506 6.9 3300 6.2 \\n17% 4.5 \\n1328 1.0 1650 \\nlodo \\n1650 \\n1693 1670 14% \\n162U \\n1732 0.b 0.3 \\n0.90 0.80 0.60 \\n0.45 \\n0.80 0.69 \\n0.b 0.50 \\n0.70 0.50 \\n0.95 0.65 \\n1.10 1,Ol Envelope leak-not found \\nRavelopa leak-not found \\nEnvelops leak-not found \\nIan--contmctual cmalttmnt \\nshort dw to gdb on emitter m~mlopa lek-not \\nfound \\nmvalopo loak-no post- \\nOp~tiO~~l \\nshort dun to getlrr rirq 5369 10.0 \\nU d \\n0 .z \\na\" R U d \\n3 \\nB 0 \\n3 t: c, \\nb I rl \\ni? \\nd k \\n5 i! H E i \\n2 \\nU E 8 d \\nH \\nc \\nP U \\n.! 3 \\ni \\nTABLE 2 \\n@A\\'-OF-PILE TEST JWRY \\nLc-\\\\I upo -- 735 8.7 1750 1.00 1.00 11/W55 \\nLC-5 u+ pove-ioe~c 7558 8.6 1750 0.85 0.85 12ji%j€5 \\nLC-6 up m-wzfc 2803 4.8 16650 1.18 1.13 S/lO/€% \\nLc-1 u/Ab -- 3671 6.7 1Bo3 0.93 0.9 7/13/67 En~lops leek - Cu-Nb veld in \\nceslup~ resorvolr \\nlc.9 .u/m -- 93.53 7.9 1700 1.01 1.m \\na \\nf 14 I: \\nI IC.6 * REL&71YL PQWZR \\nA RELATIVC IFFICILHCY \\n0 \\nI I I \\n1 4 IC-14 \\nPr AUO r, \\nNORUALIZEO I \\n00 500 I000 I500 2000 2500 3000 3500 \\nOPLRLTIHG TIWE (HR) \\nFig. $-Relative power and efficiency of carbide fueled in-pile converters \\n0 01 \\nI------ \\n------ 1 -_---- LE-3 DITA \\nENVELOPE \\nI I \\n0 1000 2000 3000 4000 5000 6000 7000 9000 8000 IO.( \\nOPERRTING TIME (HR: \\nFig. a--Coaparison of out-of-pile relative power data prior to cesium leakage \\n'}}"
      ]
     },
     "execution_count": 8,
     "metadata": {},
     "output_type": "execute_result"
    }
   ],
   "source": [
    "data2['results'][-1]"
   ]
  },
  {
   "cell_type": "code",
   "execution_count": 9,
   "id": "eac390cc-159e-40d4-a522-81a964c80ba7",
   "metadata": {},
   "outputs": [],
   "source": [
    "df = pd.DataFrame({'id': id})"
   ]
  },
  {
   "cell_type": "code",
   "execution_count": 10,
   "id": "9db7f65c-ff06-4def-909e-554fe7bb6cda",
   "metadata": {},
   "outputs": [],
   "source": [
    "df['title'] = title\n",
    "df['abstract'] = abstract\n",
    "df['authors'] = authors\n",
    "df['text'] = text"
   ]
  },
  {
   "cell_type": "code",
   "execution_count": 11,
   "id": "47afd499-19dd-43d9-905e-3de03cb52744",
   "metadata": {
    "tags": []
   },
   "outputs": [],
   "source": [
    "df.to_csv('Data/Dataset.csv')"
   ]
  }
 ],
 "metadata": {
  "kernelspec": {
   "display_name": "data-science",
   "language": "python",
   "name": "data-science"
  },
  "language_info": {
   "codemirror_mode": {
    "name": "ipython",
    "version": 3
   },
   "file_extension": ".py",
   "mimetype": "text/x-python",
   "name": "python",
   "nbconvert_exporter": "python",
   "pygments_lexer": "ipython3",
   "version": "3.9.13"
  },
  "widgets": {
   "application/vnd.jupyter.widget-state+json": {
    "state": {},
    "version_major": 2,
    "version_minor": 0
   }
  }
 },
 "nbformat": 4,
 "nbformat_minor": 5
}
