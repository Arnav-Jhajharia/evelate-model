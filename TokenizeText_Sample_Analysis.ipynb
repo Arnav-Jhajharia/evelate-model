{
 "cells": [
  {
   "cell_type": "markdown",
   "metadata": {
    "colab_type": "text",
    "id": "view-in-github"
   },
   "source": [
    "<a href=\"https://colab.research.google.com/github/ayushgupta0010/CorpusAI-AI/blob/main/TokenizeText_Sample_Analysis.ipynb\" target=\"_parent\"><img src=\"https://colab.research.google.com/assets/colab-badge.svg\" alt=\"Open In Colab\"/></a>"
   ]
  },
  {
   "cell_type": "code",
   "execution_count": 1,
   "metadata": {
    "id": "0V78UpsAju7k"
   },
   "outputs": [
    {
     "name": "stdout",
     "output_type": "stream",
     "text": [
      "Collecting pyocr\n",
      "  Downloading pyocr-0.8.3.tar.gz (67 kB)\n",
      "\u001b[2K     \u001b[38;2;114;156;31m━━━━━━━━━━━━━━━━━━━━━━━━━━━━━━━━━━━━━━━\u001b[0m \u001b[32m67.6/67.6 kB\u001b[0m \u001b[31m997.3 kB/s\u001b[0m eta \u001b[36m0:00:00\u001b[0mMB/s\u001b[0m eta \u001b[36m0:00:01\u001b[0m\n",
      "\u001b[?25h  Preparing metadata (setup.py) ... \u001b[?25ldone\n",
      "\u001b[?25hRequirement already satisfied: Pillow in /Users/anshumantekriwal/miniforge3/envs/data-science/lib/python3.9/site-packages (from pyocr) (9.1.0)\n",
      "Building wheels for collected packages: pyocr\n",
      "  Building wheel for pyocr (setup.py) ... \u001b[?25ldone\n",
      "\u001b[?25h  Created wheel for pyocr: filename=pyocr-0.8.3-py3-none-any.whl size=37342 sha256=244745017e3c9e743d3c25afca62e625ab9a9dc0eada5409f59d30b17f09ce40\n",
      "  Stored in directory: /Users/anshumantekriwal/Library/Caches/pip/wheels/fd/77/6a/e7f97be77dd46cc892e7b5fd9914f28a2b2fbf0bba86929607\n",
      "Successfully built pyocr\n",
      "Installing collected packages: pyocr\n",
      "Successfully installed pyocr-0.8.3\n",
      "Collecting PyPDF2\n",
      "  Downloading PyPDF2-2.10.9-py3-none-any.whl (218 kB)\n",
      "\u001b[2K     \u001b[38;2;114;156;31m━━━━━━━━━━━━━━━━━━━━━━━━━━━━━━━━━━━━━━━\u001b[0m \u001b[32m218.4/218.4 kB\u001b[0m \u001b[31m2.0 MB/s\u001b[0m eta \u001b[36m0:00:00\u001b[0m MB/s\u001b[0m eta \u001b[36m0:00:01\u001b[0m\n",
      "\u001b[?25hRequirement already satisfied: typing-extensions>=3.10.0.0 in /Users/anshumantekriwal/miniforge3/envs/data-science/lib/python3.9/site-packages (from PyPDF2) (4.3.0)\n",
      "Installing collected packages: PyPDF2\n",
      "Successfully installed PyPDF2-2.10.9\n",
      "Collecting textract\n",
      "  Downloading textract-1.6.5-py3-none-any.whl (23 kB)\n",
      "Collecting python-pptx~=0.6.18\n",
      "  Downloading python-pptx-0.6.21.tar.gz (10.1 MB)\n",
      "\u001b[2K     \u001b[38;2;114;156;31m━━━━━━━━━━━━━━━━━━━━━━━━━━━━━━━━━━━━━━━━\u001b[0m \u001b[32m10.1/10.1 MB\u001b[0m \u001b[31m16.9 MB/s\u001b[0m eta \u001b[36m0:00:00\u001b[0mm eta \u001b[36m0:00:01\u001b[0m:01\u001b[0m:01\u001b[0m\n",
      "\u001b[?25h  Preparing metadata (setup.py) ... \u001b[?25ldone\n",
      "\u001b[?25hCollecting beautifulsoup4~=4.8.0\n",
      "  Downloading beautifulsoup4-4.8.2-py3-none-any.whl (106 kB)\n",
      "\u001b[2K     \u001b[38;2;114;156;31m━━━━━━━━━━━━━━━━━━━━━━━━━━━━━━━━━━━━━━\u001b[0m \u001b[32m106.9/106.9 kB\u001b[0m \u001b[31m19.0 MB/s\u001b[0m eta \u001b[36m0:00:00\u001b[0m\n",
      "\u001b[?25hCollecting SpeechRecognition~=3.8.1\n",
      "  Using cached SpeechRecognition-3.8.1-py2.py3-none-any.whl (32.8 MB)\n",
      "Collecting extract-msg<=0.29.*\n",
      "  Downloading extract_msg-0.28.7-py2.py3-none-any.whl (69 kB)\n",
      "\u001b[2K     \u001b[38;2;114;156;31m━━━━━━━━━━━━━━━━━━━━━━━━━━━━━━━━━━━━━━━━\u001b[0m \u001b[32m69.0/69.0 kB\u001b[0m \u001b[31m2.7 MB/s\u001b[0m eta \u001b[36m0:00:00\u001b[0m\n",
      "\u001b[?25hCollecting docx2txt~=0.8\n",
      "  Downloading docx2txt-0.8.tar.gz (2.8 kB)\n",
      "  Preparing metadata (setup.py) ... \u001b[?25ldone\n",
      "\u001b[?25hCollecting argcomplete~=1.10.0\n",
      "  Downloading argcomplete-1.10.3-py2.py3-none-any.whl (36 kB)\n",
      "Collecting chardet==3.*\n",
      "  Using cached chardet-3.0.4-py2.py3-none-any.whl (133 kB)\n",
      "Collecting pdfminer.six==20191110\n",
      "  Downloading pdfminer.six-20191110-py2.py3-none-any.whl (5.6 MB)\n",
      "\u001b[2K     \u001b[38;2;114;156;31m━━━━━━━━━━━━━━━━━━━━━━━━━━━━━━━━━━━━━━━━\u001b[0m \u001b[32m5.6/5.6 MB\u001b[0m \u001b[31m20.0 MB/s\u001b[0m eta \u001b[36m0:00:00\u001b[0mm eta \u001b[36m0:00:01\u001b[0m[36m0:00:01\u001b[0m\n",
      "\u001b[?25hCollecting six~=1.12.0\n",
      "  Downloading six-1.12.0-py2.py3-none-any.whl (10 kB)\n",
      "Collecting xlrd~=1.2.0\n",
      "  Downloading xlrd-1.2.0-py2.py3-none-any.whl (103 kB)\n",
      "\u001b[2K     \u001b[38;2;114;156;31m━━━━━━━━━━━━━━━━━━━━━━━━━━━━━━━━━━━━━━━\u001b[0m \u001b[32m103.3/103.3 kB\u001b[0m \u001b[31m3.8 MB/s\u001b[0m eta \u001b[36m0:00:00\u001b[0m\n",
      "\u001b[?25hCollecting pycryptodome\n",
      "  Downloading pycryptodome-3.15.0.tar.gz (4.5 MB)\n",
      "\u001b[2K     \u001b[38;2;114;156;31m━━━━━━━━━━━━━━━━━━━━━━━━━━━━━━━━━━━━━━━━\u001b[0m \u001b[32m4.5/4.5 MB\u001b[0m \u001b[31m22.9 MB/s\u001b[0m eta \u001b[36m0:00:00\u001b[0mm eta \u001b[36m0:00:01\u001b[0m0:01\u001b[0m:01\u001b[0m\n",
      "\u001b[?25h  Preparing metadata (setup.py) ... \u001b[?25ldone\n",
      "\u001b[?25hCollecting sortedcontainers\n",
      "  Downloading sortedcontainers-2.4.0-py2.py3-none-any.whl (29 kB)\n",
      "Requirement already satisfied: soupsieve>=1.2 in /Users/anshumantekriwal/miniforge3/envs/data-science/lib/python3.9/site-packages (from beautifulsoup4~=4.8.0->textract) (2.3.1)\n",
      "Collecting compressed-rtf>=1.0.6\n",
      "  Downloading compressed_rtf-1.0.6.tar.gz (5.8 kB)\n",
      "  Preparing metadata (setup.py) ... \u001b[?25ldone\n",
      "\u001b[?25hCollecting ebcdic>=1.1.1\n",
      "  Downloading ebcdic-1.1.1-py2.py3-none-any.whl (128 kB)\n",
      "\u001b[2K     \u001b[38;2;114;156;31m━━━━━━━━━━━━━━━━━━━━━━━━━━━━━━━━━━━━━━━\u001b[0m \u001b[32m128.5/128.5 kB\u001b[0m \u001b[31m4.9 MB/s\u001b[0m eta \u001b[36m0:00:00\u001b[0m\n",
      "\u001b[?25hCollecting olefile>=0.46\n",
      "  Downloading olefile-0.46.zip (112 kB)\n",
      "\u001b[2K     \u001b[38;2;114;156;31m━━━━━━━━━━━━━━━━━━━━━━━━━━━━━━━━━━━━━━━\u001b[0m \u001b[32m112.2/112.2 kB\u001b[0m \u001b[31m5.1 MB/s\u001b[0m eta \u001b[36m0:00:00\u001b[0m\n",
      "\u001b[?25h  Preparing metadata (setup.py) ... \u001b[?25ldone\n",
      "\u001b[?25hCollecting tzlocal>=2.1\n",
      "  Downloading tzlocal-4.2-py3-none-any.whl (19 kB)\n",
      "Collecting imapclient==2.1.0\n",
      "  Downloading IMAPClient-2.1.0-py2.py3-none-any.whl (73 kB)\n",
      "\u001b[2K     \u001b[38;2;114;156;31m━━━━━━━━━━━━━━━━━━━━━━━━━━━━━━━━━━━━━━━━\u001b[0m \u001b[32m74.0/74.0 kB\u001b[0m \u001b[31m2.5 MB/s\u001b[0m eta \u001b[36m0:00:00\u001b[0m\n",
      "\u001b[?25hRequirement already satisfied: lxml>=3.1.0 in /Users/anshumantekriwal/miniforge3/envs/data-science/lib/python3.9/site-packages (from python-pptx~=0.6.18->textract) (4.8.0)\n",
      "Requirement already satisfied: Pillow>=3.3.2 in /Users/anshumantekriwal/miniforge3/envs/data-science/lib/python3.9/site-packages (from python-pptx~=0.6.18->textract) (9.1.0)\n",
      "Requirement already satisfied: XlsxWriter>=0.5.7 in /Users/anshumantekriwal/miniforge3/envs/data-science/lib/python3.9/site-packages (from python-pptx~=0.6.18->textract) (3.0.2)\n",
      "Collecting pytz-deprecation-shim\n",
      "  Downloading pytz_deprecation_shim-0.1.0.post0-py2.py3-none-any.whl (15 kB)\n",
      "Collecting tzdata\n",
      "  Downloading tzdata-2022.2-py2.py3-none-any.whl (336 kB)\n",
      "\u001b[2K     \u001b[38;2;114;156;31m━━━━━━━━━━━━━━━━━━━━━━━━━━━━━━━━━━━━━━\u001b[0m \u001b[32m336.4/336.4 kB\u001b[0m \u001b[31m11.6 MB/s\u001b[0m eta \u001b[36m0:00:00\u001b[0m\n",
      "\u001b[?25hBuilding wheels for collected packages: docx2txt, python-pptx, compressed-rtf, olefile, pycryptodome\n",
      "  Building wheel for docx2txt (setup.py) ... \u001b[?25ldone\n",
      "\u001b[?25h  Created wheel for docx2txt: filename=docx2txt-0.8-py3-none-any.whl size=3960 sha256=1a7ef29bc87320696eedef31f213bbc8e39757b9339e059c0800dc9574e8f9de\n",
      "  Stored in directory: /Users/anshumantekriwal/Library/Caches/pip/wheels/40/75/01/e6c444034338bde9c7947d3467807f889123465c2371e77418\n",
      "  Building wheel for python-pptx (setup.py) ... \u001b[?25ldone\n",
      "\u001b[?25h  Created wheel for python-pptx: filename=python_pptx-0.6.21-py3-none-any.whl size=470935 sha256=9c64f8f88b88097d40642571f3a1833d8e9c05cc7c61284a76d23e164228f136\n",
      "  Stored in directory: /Users/anshumantekriwal/Library/Caches/pip/wheels/0e/4a/ed/9653bc799915f52dce3f04d14946fbd85cce9c3cdedc9cfa71\n",
      "  Building wheel for compressed-rtf (setup.py) ... \u001b[?25ldone\n",
      "\u001b[?25h  Created wheel for compressed-rtf: filename=compressed_rtf-1.0.6-py3-none-any.whl size=6186 sha256=eabbacb11391a2704106fb921b7b2362f248428adb4db9f600255fe4df0bf487\n",
      "  Stored in directory: /Users/anshumantekriwal/Library/Caches/pip/wheels/e4/67/e4/ba2159853bdd0fe99330aa1e384915108143a5370686ea446f\n",
      "  Building wheel for olefile (setup.py) ... \u001b[?25ldone\n",
      "\u001b[?25h  Created wheel for olefile: filename=olefile-0.46-py2.py3-none-any.whl size=35415 sha256=d27f0843e2c20652390993647f3cad00e7e81a11ff6551adefa949d76b075333\n",
      "  Stored in directory: /Users/anshumantekriwal/Library/Caches/pip/wheels/64/b8/ba/ebba30390fbd997074f35e42a842ce3fd933213cac8753414e\n",
      "  Building wheel for pycryptodome (setup.py) ... \u001b[?25ldone\n",
      "\u001b[?25h  Created wheel for pycryptodome: filename=pycryptodome-3.15.0-cp35-abi3-macosx_11_0_arm64.whl size=1532838 sha256=975282732fdd8d48831e2bd90da2384a25c8c607603fa302d9511007326c0bb0\n",
      "  Stored in directory: /Users/anshumantekriwal/Library/Caches/pip/wheels/c0/ae/a7/62cc263ce59ebc592c815b25e4618340ecddb291e9615e97f5\n",
      "Successfully built docx2txt python-pptx compressed-rtf olefile pycryptodome\n",
      "Installing collected packages: SpeechRecognition, sortedcontainers, ebcdic, docx2txt, compressed-rtf, chardet, argcomplete, xlrd, tzdata, six, python-pptx, pycryptodome, olefile, beautifulsoup4, pytz-deprecation-shim, pdfminer.six, imapclient, tzlocal, extract-msg, textract\n",
      "  Attempting uninstall: chardet\n",
      "    Found existing installation: chardet 4.0.0\n",
      "    Uninstalling chardet-4.0.0:\n",
      "      Successfully uninstalled chardet-4.0.0\n",
      "  Attempting uninstall: six\n",
      "    Found existing installation: six 1.16.0\n",
      "    Uninstalling six-1.16.0:\n",
      "      Successfully uninstalled six-1.16.0\n",
      "  Attempting uninstall: beautifulsoup4\n",
      "    Found existing installation: beautifulsoup4 4.11.1\n",
      "    Uninstalling beautifulsoup4-4.11.1:\n",
      "      Successfully uninstalled beautifulsoup4-4.11.1\n",
      "\u001b[31mERROR: pip's dependency resolver does not currently take into account all the packages that are installed. This behaviour is the source of the following dependency conflicts.\n",
      "jupyter 1.0.0 requires qtconsole, which is not installed.\n",
      "deepspeech-training 0.9.3 requires ds-ctcdecoder==0.9.3, which is not installed.\n",
      "deepspeech-training 0.9.3 requires tensorflow==1.15.4, which is not installed.\n",
      "tensorflow-metal 0.4.0 requires six~=1.15.0, but you have six 1.12.0 which is incompatible.\n",
      "mitosheet 0.1.416 requires jupyterlab-widgets~=1.0.0, but you have jupyterlab-widgets 1.1.0 which is incompatible.\n",
      "deepspeech-training 0.9.3 requires llvmlite==0.31.0, but you have llvmlite 0.38.1 which is incompatible.\n",
      "deepspeech-training 0.9.3 requires numba==0.47.0, but you have numba 0.55.1 which is incompatible.\n",
      "deep-translator 1.8.3 requires beautifulsoup4<5.0.0,>=4.9.1, but you have beautifulsoup4 4.8.2 which is incompatible.\u001b[0m\u001b[31m\n",
      "\u001b[0mSuccessfully installed SpeechRecognition-3.8.1 argcomplete-1.10.3 beautifulsoup4-4.8.2 chardet-3.0.4 compressed-rtf-1.0.6 docx2txt-0.8 ebcdic-1.1.1 extract-msg-0.28.7 imapclient-2.1.0 olefile-0.46 pdfminer.six-20191110 pycryptodome-3.15.0 python-pptx-0.6.21 pytz-deprecation-shim-0.1.0.post0 six-1.15.0 sortedcontainers-2.4.0 textract-1.6.5 tzdata-2022.2 tzlocal-4.2 xlrd-1.2.0\n",
      "Collecting pdfminer3\n",
      "  Downloading pdfminer3-2018.12.3.0.tar.gz (5.0 MB)\n",
      "\u001b[2K     \u001b[38;2;114;156;31m━━━━━━━━━━━━━━━━━━━━━━━━━━━━━━━━━━━━━━━━\u001b[0m \u001b[32m5.0/5.0 MB\u001b[0m \u001b[31m11.1 MB/s\u001b[0m eta \u001b[36m0:00:00\u001b[0mm eta \u001b[36m0:00:01\u001b[0m[36m0:00:01\u001b[0m\n",
      "\u001b[?25h  Preparing metadata (setup.py) ... \u001b[?25ldone\n",
      "\u001b[?25hRequirement already satisfied: pycryptodome in /Users/anshumantekriwal/miniforge3/envs/data-science/lib/python3.9/site-packages (from pdfminer3) (3.15.0)\n",
      "Requirement already satisfied: sortedcontainers in /Users/anshumantekriwal/miniforge3/envs/data-science/lib/python3.9/site-packages (from pdfminer3) (2.4.0)\n",
      "Requirement already satisfied: chardet in /Users/anshumantekriwal/miniforge3/envs/data-science/lib/python3.9/site-packages (from pdfminer3) (3.0.4)\n",
      "Building wheels for collected packages: pdfminer3\n",
      "  Building wheel for pdfminer3 (setup.py) ... \u001b[?25ldone\n",
      "\u001b[?25h  Created wheel for pdfminer3: filename=pdfminer3-2018.12.3.0-py3-none-any.whl size=117807 sha256=0ec843f4638b8024cd73eb0dec269e9eddac42eb6a06dac6346f0c707a346a19\n",
      "  Stored in directory: /Users/anshumantekriwal/Library/Caches/pip/wheels/d0/c9/2c/092606572d1d797cb1e8186b3d40234e4736e4df6489a82849\n",
      "Successfully built pdfminer3\n",
      "Installing collected packages: pdfminer3\n",
      "Successfully installed pdfminer3-2018.12.3.0\n",
      "Collecting tika\n",
      "  Downloading tika-1.24.tar.gz (28 kB)\n",
      "  Preparing metadata (setup.py) ... \u001b[?25ldone\n",
      "\u001b[?25hRequirement already satisfied: setuptools in /Users/anshumantekriwal/miniforge3/envs/data-science/lib/python3.9/site-packages (from tika) (62.3.2)\n",
      "Requirement already satisfied: requests in /Users/anshumantekriwal/miniforge3/envs/data-science/lib/python3.9/site-packages (from tika) (2.28.1)\n",
      "Requirement already satisfied: urllib3<1.27,>=1.21.1 in /Users/anshumantekriwal/miniforge3/envs/data-science/lib/python3.9/site-packages (from requests->tika) (1.26.9)\n",
      "Requirement already satisfied: certifi>=2017.4.17 in /Users/anshumantekriwal/miniforge3/envs/data-science/lib/python3.9/site-packages (from requests->tika) (2022.6.15)\n",
      "Requirement already satisfied: charset-normalizer<3,>=2 in /Users/anshumantekriwal/miniforge3/envs/data-science/lib/python3.9/site-packages (from requests->tika) (2.0.12)\n",
      "Requirement already satisfied: idna<4,>=2.5 in /Users/anshumantekriwal/miniforge3/envs/data-science/lib/python3.9/site-packages (from requests->tika) (3.3)\n",
      "Building wheels for collected packages: tika\n",
      "  Building wheel for tika (setup.py) ... \u001b[?25ldone\n",
      "\u001b[?25h  Created wheel for tika: filename=tika-1.24-py3-none-any.whl size=32876 sha256=78a5de0c776495d25bde9ba993d4989b9d217e8f6857a66fbe0d1397b24cc56c\n",
      "  Stored in directory: /Users/anshumantekriwal/Library/Caches/pip/wheels/ec/76/38/0e4b92d8a3a89cbfff5be03a40c02d15b2072b1b08ebf28d6a\n",
      "Successfully built tika\n",
      "Installing collected packages: tika\n",
      "Successfully installed tika-1.24\n",
      "Requirement already satisfied: nltk in /Users/anshumantekriwal/miniforge3/envs/data-science/lib/python3.9/site-packages (3.7)\n",
      "Requirement already satisfied: tqdm in /Users/anshumantekriwal/miniforge3/envs/data-science/lib/python3.9/site-packages (from nltk) (4.64.0)\n",
      "Requirement already satisfied: click in /Users/anshumantekriwal/miniforge3/envs/data-science/lib/python3.9/site-packages (from nltk) (8.1.3)\n",
      "Requirement already satisfied: joblib in /Users/anshumantekriwal/miniforge3/envs/data-science/lib/python3.9/site-packages (from nltk) (1.1.0)\n",
      "Requirement already satisfied: regex>=2021.8.3 in /Users/anshumantekriwal/miniforge3/envs/data-science/lib/python3.9/site-packages (from nltk) (2022.6.2)\n"
     ]
    }
   ],
   "source": [
    "!pip install pyocr \n",
    "!pip install PyPDF2\n",
    "!pip install textract\n",
    "!pip install pdfminer3\n",
    "!pip install tika\n",
    "!pip install nltk"
   ]
  },
  {
   "cell_type": "code",
   "execution_count": 1,
   "metadata": {
    "id": "pSxLbOZrMS3Q"
   },
   "outputs": [
    {
     "name": "stdout",
     "output_type": "stream",
     "text": [
      "--2022-09-23 20:54:41--  https://ntrs.nasa.gov/api/citations/19740076600/downloads/19740076600.pdf\n",
      "Resolving ntrs.nasa.gov (ntrs.nasa.gov)... 161.40.161.137, 161.40.161.175\n",
      "Connexion `a ntrs.nasa.gov (ntrs.nasa.gov)|161.40.161.137|:443... connected.\n",
      "HTTP request sent, awaiting response... 200 OK\n",
      "Length: 452971 (442K) [application/pdf]\n",
      "Sauvegarde en : << TestNASA/19740076600.pdf.1 >>\n",
      "\n",
      "19740076600.pdf.1   100%[===================>] 442.35K   143KB/s    ds 3.1s    \n",
      "\n",
      "2022-09-23 20:54:46 (143 KB/s) - << TestNASA/19740076600.pdf.1 >> sauvegard'e [452971/452971]\n",
      "\n"
     ]
    }
   ],
   "source": [
    "import os\n",
    "!wget https://ntrs.nasa.gov/api/citations/19740076600/downloads/19740076600.pdf -P TestNASA/"
   ]
  },
  {
   "cell_type": "code",
   "execution_count": 2,
   "metadata": {
    "id": "lhywISGxp5ae"
   },
   "outputs": [
    {
     "data": {
      "text/plain": [
       "'./TestNASA/19740076600.pdf;'"
      ]
     },
     "execution_count": 2,
     "metadata": {},
     "output_type": "execute_result"
    }
   ],
   "source": [
    "import PyPDF2\n",
    "import csv\n",
    "import os\n",
    "import re\n",
    "import pandas\n",
    "import matplotlib.pyplot as plt \n",
    "import matplotlib.mlab as mlab \n",
    "import numpy\n",
    "import textract\n",
    "\n",
    "pdfList = \"\"\n",
    "# create a list of all the PDF files in the folder and add them to the list\n",
    "for filename in os.listdir('./TestNASA/'):\n",
    "    if filename.endswith('.pdf'):\n",
    "        pdfList =  pdfList + (os.path.join('./TestNASA/', filename)) + \";\"\n",
    "\n",
    "pdfList"
   ]
  },
  {
   "cell_type": "code",
   "execution_count": 8,
   "metadata": {
    "colab": {
     "base_uri": "https://localhost:8080/",
     "height": 431
    },
    "id": "fszc0bGy3Tou",
    "outputId": "4decff7f-5c85-40e7-86ad-ead55bb8ae3d"
   },
   "outputs": [
    {
     "name": "stderr",
     "output_type": "stream",
     "text": [
      "[nltk_data] Downloading package punkt to /root/nltk_data...\n",
      "[nltk_data]   Unzipping tokenizers/punkt.zip.\n"
     ]
    },
    {
     "name": "stdout",
     "output_type": "stream",
     "text": [
      "[\"4L1\\n4\\n2\\n9261\\nCONSIDERATI0_S OFTHEEFFECT OFVTOL DOWNWASH\\nONTHEGROUND ENVIRONMENT\\nByThomas C.0'Bryan\\nLangley Research Center\\nThis paper willconsider VTOL downwash from the standpoint of\\nground erosion andmovement ofobjects todetermine thepresent status\\nofthedownwash problem.\", 'The first problem which will beconsidered istheerosion effect\\nofthedownwash.', 'Figure 1indicates thedynamic pressure required to\\nstart erosion for anumber ofground surfaces.', 'This information isa\\ns_mmary ofsmall-scale erosion tests reported inreference 1except for\\nthe example ofloose crushed rock at19lb/sq ft.', 'This example was\\nobtained from anincident with theVertol VZ-2 operating over anarea\\ncovered with loose rock which resulted indamage totheairplane.', 'All\\ndata shown infigure 1were obtained with theuseofcold Jets.', 'Since\\nsodwithstands erosion atdynamic pressures upto1,000 lb/sq ft,opera-\\ntion ofJetVTOL aircraft over this surface would appear feasible.', 'Landings oftheBell X-14 and Short S.C.1onsodhave, infact, verified\\nthis feasibility.', 'Experience indicates, however, that hot Jets operating\\nover sodwould eventually burn offthe grass anddryoutthe soil with\\nresulting erosion.', 'Themost serious effect oferosion arises when thedynamic pressure\\nissufficient todigacrater intheground, acondition which isususlly\\nimminent once erosion starts.', 'Thecrater notonly represents asource\\nofmaterial tobereclrculated, but inaddition, thesides ofthecrater\\nprovide apath fortheeroded material tobeprojected vertically into\\ntherotor.', 'Inaddition tothecrater problem, eroded material moving radially\\nmay encounter large enough objects onthe surface oftheground toproject\\nthem vertically into therotor oronto theairframe.', 'Theflow field around ahovering aircraft determines theextent of\\nthearea towhich these considerations apply.', 'Aschematic illustration\\nofthe flow field isshown infigure 2.Thepresence oftheground turns\\nthe flow from avertical toahorizontal direction, anditisthis flow\\nofairparallel totheground which isofconcern.', 'Measurements ofthe\\ndynamic pressure oftheoutward flow ofairwere made with avertically\\ntraversing pltot head atseveral radial distances from thecenter ofthe\\nrotor.', 'Theheight oftherotor above theground varied from about\\nPrecedingpageblank\\nL\\nJ\\n.z_6_\\ni/3diameter toIdiameter_ sotheeffect ofrotor height ontheflow\\nfield isnotconsidered significant.', 'Typical results ofthese surveys fora35-foot rotor are shown in\\nfigure }.Shown inthis figure isthevariation oftheratio ofdynamic\\npressure todisk loading q_s_ with height above theground measured in\\nT/A\\ndiameters h/D.', 'Thedata indicate ageneral geometric similarity-of\\ntheprofiles and adecrease inmaximum dynamic pressure asdistance from\\ntherotor isincreased.', 'Inasmuch asthese profiles indicate that the\\nheight ofthis sheet ofair isnearly constant, momentum considerations\\nwould indicate that this decrease indynamic pressure with increase in\\ndistance from therotor would beexpected because astheradial distance\\n(the distance inalldirections from the center ofthe rotor) increases,\\nthe circumference ofthe sheet ofair increases linearly with distance.', 'Therefore the flow area increases andcontinuity requires that theveloc-\\nitymust decrease.', 'From these considerations itwould beexpected that\\nthedynamic pressure would decrease inversely asthesquare oftheradial\\ndistance.', 'Atypical decay ofthemaximum dynamic pressure with increase in\\ndistance from arotor x/D isshown infigure _.Here the ratio of\\nthemaximum dynamic pressure divided bythedisk loading isplotted as\\nafunction oftheradial distance forafull-scale 9.5-foot rotor and\\nfor a28-inch-diameter model andiscompared with the calculations based\\nontheprevious considerations.', 'Theactual decay issomewhat more rapid\\nthan this simple estimate asaresult ofthemixing ofthe flow with the\\nstill airabove itandthefriction with theground beneath astheflow\\nmoves away from the source.', 'These results have been presented nondimenslonally; inthepractical\\ncase itisofinterest tocompare theactual qatagiven distance\\nfrom theaircraft fordifferent disk loadings.', 'Tofacilitate this com-\\nparison model data have been scaled tofull-scale disk loadings.', 'Infig-\\nure 5thedecay ofmaximum dynamic pressure oftheairflowing along the\\nground iscompared fortwohO,O00-pound-gross-weight configurations, one\\nwith adisk loading oflOlb_sq ftandtheother athalf thediameter\\nwith adisk loading of40lb/sq ft. Themain feature tobenoted here\\nisthat atareasonable distance from thecenter themaximum dynamic\\npressure isequal forthetworotors.', 'Except inthenear vicinity of\\ntheaircraft dynamic pressure isafunction ofgross weight orthrust\\nandnot afunction ofdisk loading.', 'Moreover asindicated bythe sketch\\natthe topoffigure 5,thesheet ofairflowing along theground is\\nthinner forthe smaller rotor.', 'Figure 6shows thedistribution of\\ndynamic pressure with height above theground forthetworotors ata\\ndistance of72feet from thecenter.', 'Thegreater depth ofthe flow for\\nthe large rotor indicates that inthese regions where dynamic pressureL\\n1\\n4\\n2\\n9\\n:!', '36A\\n263\\n1isequal forthetworotors the large-diameter low-disk-loading machines\\nwould produce larger overturning moments toobjects under itsinfluence\\nthan would the smaller diameter high-disk-loading rotor.', 'However, in\\nthearea inthe immediate vicinity ofthe aircraft theerosion problems\\nthat may beencountered areafunction ofdisk loading.', 'Thediscussion sofarhas dealt with single-rotor configurations.', 'When multiple rotors areused, interactions canexist which bring in\\nother considerations.', 'Figure 7isshown inorder todiscuss theeffect\\noftheflow attheplane ofsymmetry that exists when theflow from two\\nrotors meet.', 'The first point tobemade isthat theresulting vertical\\nflow ofairunder thefuselage provides apath fortheproducts ofero-\\nsion toberecirculated.', 'Anexample ofthis isthe Vertol VZ-2 incident\\nmentioned previously.', 'Inthis case the loose rock was projected bythe\\nflow into theopen fuselage, aswell asinto thepropellers with con-\\nsiderable resulting damage tothemachine.', 'Itisexpected that the\\nsituation would hsve been less severe inthecase ofaclosed fuselage.', 'Another feature oftheflow intheplane ofsymmetry isthat for\\nshort distances ahead ofandbehind the airplane themeeting ofthetwo\\nslipstreams results inanincrease inthedynamic pressure ofthe air-\\nflow parallel tothe ground.', 'Figure 8illustrates this effect using\\nmodel data scaled tofull-scale disk loadings.', 'Here isshown the con-\\ntour line for aconstant dynamic pressure of8lb/sq ftaround atwo-\\npropeller configuration.', 'This increase indynamic pressure shows upas\\nthepeak inthe contour llne ahead ofthenose.', 'Also shown isthe con-\\ntour line foraconstant dynamic pressure of8lb/sq ftthat would be\\nobtained with asingle rotor ofthesame disk loading.', 'Itcanbeseen\\nthat forpractical purposes there islittle difference between these\\ncontours.', 'Thus theeffects ofthe interaction ofthese two flows are\\nconfined totheimmediate vicinity oftheairplane.', 'CONCLUSIONS\\nInconclusion, ground erosion becomes aserious problem asdisk\\nloading isincreased, andoperating experience isneeded todefine the\\ntolerable limits.', 'Theproblems associated with increased disk loading areconfined\\ntotheimmediate vicinity ofthe aircraft.', 'Except forthis area in\\nthevicinity oftheaircraft thedynamic pressure oftheoutward flowing\\nsheet ofair isdependent only onthegross weight oftheaircraft.', 'Furthermore, the thickness ofthis outward flowing sheet ofairdecreases\\ndirectly with decreases inthediameter ofthe slipstream.', '26_\\nREFERENCE\\ni.Kuhn,RichardE.', ':AnInvestigation ToDetermine Conditions Under\\nWhichDownwash FromVTOLAircraft WillStartSurfaceErosionFrom\\nVariousTypesofTerrain.', 'NASATND-96,1959.', \"f\\nL\\n1\\n4\\n2\\n9\\n.,_._\\nii\\n='IDYNAMIC PRESSURE REQUIRED TOSTART EROSION\\nSOD____.___.\", '-_-_\\nWETSA_D_\"\"?\\'.', ':;:;._\\'_,\\';:\\'_,:o_C\"\";;\\'_\\':;;_:\"_ _:_:\\'_;);5\\'¢\\'!_.__)_\\nWATER]\\n1\\nDRYSAND]LOOSE CRUSHED ROCK\\nLOOSE DIRT\\nI I I I I;F ,I\\nIO 20 30 40 501,000\\nDYNAMIC PRESSURE.', 'LB/SQFT\\nFi_el\\nDOWNWASH FROM ANISOLATED ROTOR\\n///////////////7//////////\\n\"/////////////////I////////\\nxtD \"1\\nFigure 2\\nDYNAMIC-PRESSURE PROFILE FORISOLATED ROTORMEASURED ON\\nRADIALLINEFROMCENTEROFROTATION\\n.2 x\\n 01.0\\nh Z_ZO\\n.i o o\\n0 .2 .4 .6 .8\\n3_\\nTIA\\n:Figure 3\\n- COMPARISON OFESTIMATED ANDMEASURED\\nDYNAMIC-PRESSURE DECAY\\n1.0\\nESTIMATED\\nO MODEL\\n.8 [] FULL-SCALE\\nIMAX.6\\nT/A\\n.4\\n•2 ___\\n1 [ I\\n1.0 2.0 3.0\\nx\\nFigure 4_ =:: _266\\n-4\\n•_i-=d267\\nCOMPARISON OFTHEDECAYFORTWODISKLOADINGS\\n, W=40,000LB\\n,tt(\\n -.... D=72FT\\nDISKLOADING =10LBISQFT\\n4O\\nO-.', '_ DISKLOADING =40LBISQ FT\\n =36FT\\n40 80 120 160\\nDISTANCE FROMCENTER LINE,FT\\nFigure 5\\nTHICKNESS OFDYNAMIC PRESSURE PROFILES\\nW=40,000LB;x:72FT\\nHEIGHTABOVE\\nGROUND, h,FT8_ D:36FT\\nI.', '1 ,_..-_ .-_\\n0 2 4 6\\nDYNAMIC PRESSURE q,LBIFTz\\nFigure 6\\n=\\n_11____.', '\"__\\'_\\'_\\nL268\\nTHREE-DIMENSIONAL SLIPSTREAM PATTERN\\nFigure 7\\nGROUND DYNAMIC PRESSURE CONTOUR\\nFORHOVERING VTOL\\nDI_KLOADING\"40LB/FTz\\nt\"\"--_\"_-.', 'F--SINGLE\\n/\"\"_ \"_/ROTOR\\n/ \\'%\\nCONTOUR FOR //_ _\\'%\\\\ D-36FT\\n\\\\ II /\"--DUAL\\n- D-_,C\\'T\\n\\\\ -V-- /\\n I\"\\nFigure 8f']\n",
      "['4L1', '4', '2', '9261', 'CONSIDERATI0_S', 'OFTHEEFFECT', 'OFVTOL', 'DOWNWASH', 'ONTHEGROUND', 'ENVIRONMENT', 'ByThomas', \"C.0'Bryan\", 'Langley', 'Research', 'Center', 'This', 'paper', 'willconsider', 'VTOL', 'downwash', 'from', 'the', 'standpoint', 'of', 'ground', 'erosion', 'andmovement', 'ofobjects', 'todetermine', 'thepresent', 'status', 'ofthedownwash', 'problem', '.', 'The', 'first', 'problem', 'which', 'will', 'beconsidered', 'istheerosion', 'effect', 'ofthedownwash', '.', 'Figure', '1indicates', 'thedynamic', 'pressure', 'required', 'to', 'start', 'erosion', 'for', 'anumber', 'ofground', 'surfaces', '.', 'This', 'information', 'isa', 's_mmary', 'ofsmall-scale', 'erosion', 'tests', 'reported', 'inreference', '1except', 'for', 'the', 'example', 'ofloose', 'crushed', 'rock', 'at19lb/sq', 'ft', '.', 'This', 'example', 'was', 'obtained', 'from', 'anincident', 'with', 'theVertol', 'VZ-2', 'operating', 'over', 'anarea', 'covered', 'with', 'loose', 'rock', 'which', 'resulted', 'indamage', 'totheairplane', '.', 'All', 'data', 'shown', 'infigure', '1were', 'obtained', 'with', 'theuseofcold', 'Jets', '.', 'Since', 'sodwithstands', 'erosion', 'atdynamic', 'pressures', 'upto1,000', 'lb/sq', 'ft', ',', 'opera-', 'tion', 'ofJetVTOL', 'aircraft', 'over', 'this', 'surface', 'would', 'appear', 'feasible', '.', 'Landings', 'oftheBell', 'X-14', 'and', 'Short', 'S.C.1onsodhave', ',', 'infact', ',', 'verified', 'this', 'feasibility', '.', 'Experience', 'indicates', ',', 'however', ',', 'that', 'hot', 'Jets', 'operating', 'over', 'sodwould', 'eventually', 'burn', 'offthe', 'grass', 'anddryoutthe', 'soil', 'with', 'resulting', 'erosion', '.', 'Themost', 'serious', 'effect', 'oferosion', 'arises', 'when', 'thedynamic', 'pressure', 'issufficient', 'todigacrater', 'intheground', ',', 'acondition', 'which', 'isususlly', 'imminent', 'once', 'erosion', 'starts', '.', 'Thecrater', 'notonly', 'represents', 'asource', 'ofmaterial', 'tobereclrculated', ',', 'but', 'inaddition', ',', 'thesides', 'ofthecrater', 'provide', 'apath', 'fortheeroded', 'material', 'tobeprojected', 'vertically', 'into', 'therotor', '.', 'Inaddition', 'tothecrater', 'problem', ',', 'eroded', 'material', 'moving', 'radially', 'may', 'encounter', 'large', 'enough', 'objects', 'onthe', 'surface', 'oftheground', 'toproject', 'them', 'vertically', 'into', 'therotor', 'oronto', 'theairframe', '.', 'Theflow', 'field', 'around', 'ahovering', 'aircraft', 'determines', 'theextent', 'of', 'thearea', 'towhich', 'these', 'considerations', 'apply', '.', 'Aschematic', 'illustration', 'ofthe', 'flow', 'field', 'isshown', 'infigure', '2.Thepresence', 'oftheground', 'turns', 'the', 'flow', 'from', 'avertical', 'toahorizontal', 'direction', ',', 'anditisthis', 'flow', 'ofairparallel', 'totheground', 'which', 'isofconcern', '.', 'Measurements', 'ofthe', 'dynamic', 'pressure', 'oftheoutward', 'flow', 'ofairwere', 'made', 'with', 'avertically', 'traversing', 'pltot', 'head', 'atseveral', 'radial', 'distances', 'from', 'thecenter', 'ofthe', 'rotor', '.', 'Theheight', 'oftherotor', 'above', 'theground', 'varied', 'from', 'about', 'Precedingpageblank', 'L', 'J', '.z_6_', 'i/3diameter', 'toIdiameter_', 'sotheeffect', 'ofrotor', 'height', 'ontheflow', 'field', 'isnotconsidered', 'significant', '.', 'Typical', 'results', 'ofthese', 'surveys', 'fora35-foot', 'rotor', 'are', 'shown', 'in', 'figure', '}', '.Shown', 'inthis', 'figure', 'isthevariation', 'oftheratio', 'ofdynamic', 'pressure', 'todisk', 'loading', 'q_s_', 'with', 'height', 'above', 'theground', 'measured', 'in', 'T/A', 'diameters', 'h/D', '.', 'Thedata', 'indicate', 'ageneral', 'geometric', 'similarity-of', 'theprofiles', 'and', 'adecrease', 'inmaximum', 'dynamic', 'pressure', 'asdistance', 'from', 'therotor', 'isincreased', '.', 'Inasmuch', 'asthese', 'profiles', 'indicate', 'that', 'the', 'height', 'ofthis', 'sheet', 'ofair', 'isnearly', 'constant', ',', 'momentum', 'considerations', 'would', 'indicate', 'that', 'this', 'decrease', 'indynamic', 'pressure', 'with', 'increase', 'in', 'distance', 'from', 'therotor', 'would', 'beexpected', 'because', 'astheradial', 'distance', '(', 'the', 'distance', 'inalldirections', 'from', 'the', 'center', 'ofthe', 'rotor', ')', 'increases', ',', 'the', 'circumference', 'ofthe', 'sheet', 'ofair', 'increases', 'linearly', 'with', 'distance', '.', 'Therefore', 'the', 'flow', 'area', 'increases', 'andcontinuity', 'requires', 'that', 'theveloc-', 'itymust', 'decrease', '.', 'From', 'these', 'considerations', 'itwould', 'beexpected', 'that', 'thedynamic', 'pressure', 'would', 'decrease', 'inversely', 'asthesquare', 'oftheradial', 'distance', '.', 'Atypical', 'decay', 'ofthemaximum', 'dynamic', 'pressure', 'with', 'increase', 'in', 'distance', 'from', 'arotor', 'x/D', 'isshown', 'infigure', '_.Here', 'the', 'ratio', 'of', 'themaximum', 'dynamic', 'pressure', 'divided', 'bythedisk', 'loading', 'isplotted', 'as', 'afunction', 'oftheradial', 'distance', 'forafull-scale', '9.5-foot', 'rotor', 'and', 'for', 'a28-inch-diameter', 'model', 'andiscompared', 'with', 'the', 'calculations', 'based', 'ontheprevious', 'considerations', '.', 'Theactual', 'decay', 'issomewhat', 'more', 'rapid', 'than', 'this', 'simple', 'estimate', 'asaresult', 'ofthemixing', 'ofthe', 'flow', 'with', 'the', 'still', 'airabove', 'itandthefriction', 'with', 'theground', 'beneath', 'astheflow', 'moves', 'away', 'from', 'the', 'source', '.', 'These', 'results', 'have', 'been', 'presented', 'nondimenslonally', ';', 'inthepractical', 'case', 'itisofinterest', 'tocompare', 'theactual', 'qatagiven', 'distance', 'from', 'theaircraft', 'fordifferent', 'disk', 'loadings', '.', 'Tofacilitate', 'this', 'com-', 'parison', 'model', 'data', 'have', 'been', 'scaled', 'tofull-scale', 'disk', 'loadings', '.', 'Infig-', 'ure', '5thedecay', 'ofmaximum', 'dynamic', 'pressure', 'oftheairflowing', 'along', 'the', 'ground', 'iscompared', 'fortwohO', ',', 'O00-pound-gross-weight', 'configurations', ',', 'one', 'with', 'adisk', 'loading', 'oflOlb_sq', 'ftandtheother', 'athalf', 'thediameter', 'with', 'adisk', 'loading', 'of40lb/sq', 'ft.', 'Themain', 'feature', 'tobenoted', 'here', 'isthat', 'atareasonable', 'distance', 'from', 'thecenter', 'themaximum', 'dynamic', 'pressure', 'isequal', 'forthetworotors', '.', 'Except', 'inthenear', 'vicinity', 'of', 'theaircraft', 'dynamic', 'pressure', 'isafunction', 'ofgross', 'weight', 'orthrust', 'andnot', 'afunction', 'ofdisk', 'loading', '.', 'Moreover', 'asindicated', 'bythe', 'sketch', 'atthe', 'topoffigure', '5', ',', 'thesheet', 'ofairflowing', 'along', 'theground', 'is', 'thinner', 'forthe', 'smaller', 'rotor', '.', 'Figure', '6shows', 'thedistribution', 'of', 'dynamic', 'pressure', 'with', 'height', 'above', 'theground', 'forthetworotors', 'ata', 'distance', 'of72feet', 'from', 'thecenter', '.', 'Thegreater', 'depth', 'ofthe', 'flow', 'for', 'the', 'large', 'rotor', 'indicates', 'that', 'inthese', 'regions', 'where', 'dynamic', 'pressureL', '1', '4', '2', '9', ':', '!', '36A', '263', '1isequal', 'forthetworotors', 'the', 'large-diameter', 'low-disk-loading', 'machines', 'would', 'produce', 'larger', 'overturning', 'moments', 'toobjects', 'under', 'itsinfluence', 'than', 'would', 'the', 'smaller', 'diameter', 'high-disk-loading', 'rotor', '.', 'However', ',', 'in', 'thearea', 'inthe', 'immediate', 'vicinity', 'ofthe', 'aircraft', 'theerosion', 'problems', 'that', 'may', 'beencountered', 'areafunction', 'ofdisk', 'loading', '.', 'Thediscussion', 'sofarhas', 'dealt', 'with', 'single-rotor', 'configurations', '.', 'When', 'multiple', 'rotors', 'areused', ',', 'interactions', 'canexist', 'which', 'bring', 'in', 'other', 'considerations', '.', 'Figure', '7isshown', 'inorder', 'todiscuss', 'theeffect', 'oftheflow', 'attheplane', 'ofsymmetry', 'that', 'exists', 'when', 'theflow', 'from', 'two', 'rotors', 'meet', '.', 'The', 'first', 'point', 'tobemade', 'isthat', 'theresulting', 'vertical', 'flow', 'ofairunder', 'thefuselage', 'provides', 'apath', 'fortheproducts', 'ofero-', 'sion', 'toberecirculated', '.', 'Anexample', 'ofthis', 'isthe', 'Vertol', 'VZ-2', 'incident', 'mentioned', 'previously', '.', 'Inthis', 'case', 'the', 'loose', 'rock', 'was', 'projected', 'bythe', 'flow', 'into', 'theopen', 'fuselage', ',', 'aswell', 'asinto', 'thepropellers', 'with', 'con-', 'siderable', 'resulting', 'damage', 'tothemachine', '.', 'Itisexpected', 'that', 'the', 'situation', 'would', 'hsve', 'been', 'less', 'severe', 'inthecase', 'ofaclosed', 'fuselage', '.', 'Another', 'feature', 'oftheflow', 'intheplane', 'ofsymmetry', 'isthat', 'for', 'short', 'distances', 'ahead', 'ofandbehind', 'the', 'airplane', 'themeeting', 'ofthetwo', 'slipstreams', 'results', 'inanincrease', 'inthedynamic', 'pressure', 'ofthe', 'air-', 'flow', 'parallel', 'tothe', 'ground', '.', 'Figure', '8illustrates', 'this', 'effect', 'using', 'model', 'data', 'scaled', 'tofull-scale', 'disk', 'loadings', '.', 'Here', 'isshown', 'the', 'con-', 'tour', 'line', 'for', 'aconstant', 'dynamic', 'pressure', 'of8lb/sq', 'ftaround', 'atwo-', 'propeller', 'configuration', '.', 'This', 'increase', 'indynamic', 'pressure', 'shows', 'upas', 'thepeak', 'inthe', 'contour', 'llne', 'ahead', 'ofthenose', '.', 'Also', 'shown', 'isthe', 'con-', 'tour', 'line', 'foraconstant', 'dynamic', 'pressure', 'of8lb/sq', 'ftthat', 'would', 'be', 'obtained', 'with', 'asingle', 'rotor', 'ofthesame', 'disk', 'loading', '.', 'Itcanbeseen', 'that', 'forpractical', 'purposes', 'there', 'islittle', 'difference', 'between', 'these', 'contours', '.', 'Thus', 'theeffects', 'ofthe', 'interaction', 'ofthese', 'two', 'flows', 'are', 'confined', 'totheimmediate', 'vicinity', 'oftheairplane', '.', 'CONCLUSIONS', 'Inconclusion', ',', 'ground', 'erosion', 'becomes', 'aserious', 'problem', 'asdisk', 'loading', 'isincreased', ',', 'andoperating', 'experience', 'isneeded', 'todefine', 'the', 'tolerable', 'limits', '.', 'Theproblems', 'associated', 'with', 'increased', 'disk', 'loading', 'areconfined', 'totheimmediate', 'vicinity', 'ofthe', 'aircraft', '.', 'Except', 'forthis', 'area', 'in', 'thevicinity', 'oftheaircraft', 'thedynamic', 'pressure', 'oftheoutward', 'flowing', 'sheet', 'ofair', 'isdependent', 'only', 'onthegross', 'weight', 'oftheaircraft', '.', 'Furthermore', ',', 'the', 'thickness', 'ofthis', 'outward', 'flowing', 'sheet', 'ofairdecreases', 'directly', 'with', 'decreases', 'inthediameter', 'ofthe', 'slipstream', '.', '26_', 'REFERENCE', 'i.Kuhn', ',', 'RichardE', '.', ':', 'AnInvestigation', 'ToDetermine', 'Conditions', 'Under', 'WhichDownwash', 'FromVTOLAircraft', 'WillStartSurfaceErosionFrom', 'VariousTypesofTerrain', '.', 'NASATND-96,1959', '.', 'f', 'L', '1', '4', '2', '9', '.', ',', '_._', 'ii', \"='IDYNAMIC\", 'PRESSURE', 'REQUIRED', 'TOSTART', 'EROSION', 'SOD____.___', '.', '-_-_', 'WETSA_D_', \"''\", \"''\", '?', \"'\", '.', ':', ';', ':', ';', '._', \"'\", '_', ',', \"'\", ';', ':', \"'\", '_', ',', ':o_C', \"''\", \"''\", ';', ';', \"'\", '_', \"'\", ':', ';', ';', '_', ':', \"''\", '_', '_', ':', '_', ':', \"'\", '_', ';', ')', ';', \"5'¢\", \"'\", '!', '_.__', ')', '_', 'WATER', ']', '1', 'DRYSAND', ']', 'LOOSE', 'CRUSHED', 'ROCK', 'LOOSE', 'DIRT', 'I', 'I', 'I', 'I', 'I', ';', 'F', ',', 'I', 'IO', '20', '30', '40', '501,000', 'DYNAMIC', 'PRESSURE', '.', 'LB/SQFT', 'Fi_el', 'DOWNWASH', 'FROM', 'ANISOLATED', 'ROTOR', '///////////////7//////////', \"''\", '/////////////////I////////', 'xtD', '``', '1', 'Figure', '2', 'DYNAMIC-PRESSURE', 'PROFILE', 'FORISOLATED', 'ROTORMEASURED', 'ON', 'RADIALLINEFROMCENTEROFROTATION', '.2', 'x', '01.0', 'h', 'Z_ZO', '.i', 'o', 'o', '0', '.2', '.4', '.6', '.8', '3_', 'TIA', ':', 'Figure', '3', '-', 'COMPARISON', 'OFESTIMATED', 'ANDMEASURED', 'DYNAMIC-PRESSURE', 'DECAY', '1.0', 'ESTIMATED', 'O', 'MODEL', '.8', '[', ']', 'FULL-SCALE', 'IMAX.6', 'T/A', '.4', '•2', '___', '1', '[', 'I', '1.0', '2.0', '3.0', 'x', 'Figure', '4_', '=', ':', ':', '_266', '-4', '•_i-=d267', 'COMPARISON', 'OFTHEDECAYFORTWODISKLOADINGS', ',', 'W=40,000LB', ',', 'tt', '(', '-', '....', 'D=72FT', 'DISKLOADING', '=10LBISQFT', '4O', 'O-', '.', '_', 'DISKLOADING', '=40LBISQ', 'FT', '=36FT', '40', '80', '120', '160', 'DISTANCE', 'FROMCENTER', 'LINE', ',', 'FT', 'Figure', '5', 'THICKNESS', 'OFDYNAMIC', 'PRESSURE', 'PROFILES', 'W=40,000LB', ';', 'x:72FT', 'HEIGHTABOVE', 'GROUND', ',', 'h', ',', 'FT8_', 'D:36FT', 'I', '.', '1', ',', '_', '..', '-_', '.-_', '0', '2', '4', '6', 'DYNAMIC', 'PRESSURE', 'q', ',', 'LBIFTz', 'Figure', '6', '=', '_11____', '.', '``', '__', \"'\", '_', \"'\", '_', 'L268', 'THREE-DIMENSIONAL', 'SLIPSTREAM', 'PATTERN', 'Figure', '7', 'GROUND', 'DYNAMIC', 'PRESSURE', 'CONTOUR', 'FORHOVERING', 'VTOL', 'DI_KLOADING', \"''\", '40LB/FTz', 't', \"''\", \"''\", '--', '_', \"''\", '_-', '.', 'F', '--', 'SINGLE', '/', \"''\", \"''\", '_', '``', '_/ROTOR', '/', \"'\", '%', 'CONTOUR', 'FOR', '//_', '_', \"'\", '%', '\\\\', 'D-36FT', '\\\\', 'II', '/', \"''\", '--', 'DUAL', '-', 'D-_', ',', \"C'T\", '\\\\', '-V', '--', '/', 'I', \"''\", 'Figure', '8f']\n"
     ]
    },
    {
     "data": {
      "image/png": "[encoded data removed]",
      "text/plain": [
       "<Figure size 432x288 with 1 Axes>"
      ]
     },
     "metadata": {
      "needs_background": "light"
     },
     "output_type": "display_data"
    }
   ],
   "source": [
    "import nltk\n",
    "nltk.download('punkt')\n",
    "\n",
    "# tokenize the text #\n",
    "from nltk.tokenize import sent_tokenize, word_tokenize\n",
    "# also, download the punkt package from the following link:\n",
    "# http://www.nltk.org/nltk_data/packages/tokenizers/punkt.zip\n",
    "\n",
    "# split the text into sentences\n",
    "sents = sent_tokenize(text)\n",
    "\n",
    "# split the text into words\n",
    "words = word_tokenize(text)\n",
    "print(words)\n",
    "\n",
    "# calculate frequency distribution for all the words in the text\n",
    "\n",
    "from nltk.probability import FreqDist\n",
    "fdist = FreqDist(words)\n",
    "fdist\n",
    "\n",
    "import numpy as np\n",
    "import matplotlib.pyplot as plt\n",
    "\n",
    "# plot the frequency distribution\n",
    "fdist.plot(30, cumulative=False)\n",
    "plt.show()"
   ]
  }
 ],
 "metadata": {
  "colab": {
   "authorship_tag": "ABX9TyPUciC20DJQit3Ti+nRmqcd",
   "collapsed_sections": [],
   "include_colab_link": true,
   "provenance": []
  },
  "kernelspec": {
   "display_name": "data-science",
   "language": "python",
   "name": "data-science"
  },
  "language_info": {
   "codemirror_mode": {
    "name": "ipython",
    "version": 3
   },
   "file_extension": ".py",
   "mimetype": "text/x-python",
   "name": "python",
   "nbconvert_exporter": "python",
   "pygments_lexer": "ipython3",
   "version": "3.9.13"
  },
  "widgets": {
   "application/vnd.jupyter.widget-state+json": {
    "state": {},
    "version_major": 2,
    "version_minor": 0
   }
  }
 },
 "nbformat": 4,
 "nbformat_minor": 4
}
